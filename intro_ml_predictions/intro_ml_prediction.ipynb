{
 "cells": [
  {
   "cell_type": "markdown",
   "metadata": {
    "id": "QflTxvGmzluf"
   },
   "source": [
    "# Introduction to ML: Predictions -- COVID-19 Vaccination Progress\n",
    "\n",
    "We will use the COVID-19 Vaccination dataset from Kaggle ([link](https://www.kaggle.com/gpreda/covid-world-vaccination-progress)).\n",
    "\n",
    "This tutorial is modified from https://www.kaggle.com/mrinalchandramishra/predicting-vaccination-done-in-future\n",
    "1. Dataset Overview and basic visualisation\n",
    "2. Linear regression model\n",
    "3. K-means clustering "
   ]
  },
  {
   "cell_type": "code",
   "execution_count": null,
   "metadata": {},
   "outputs": [],
   "source": [
    "# # install python packages using pip\n",
    "# !pip install pandas --quiet\n",
    "# !pip install seaborn --quiet\n",
    "# !pip install missingno --quiet\n",
    "# # monitor cpu/ram usage \n",
    "# !pip install jupyterlab-system-monitor\n",
    "# !pip install scikit-learn"
   ]
  },
  {
   "cell_type": "code",
   "execution_count": null,
   "metadata": {
    "executionInfo": {
     "elapsed": 2198,
     "status": "ok",
     "timestamp": 1646882231968,
     "user": {
      "displayName": "Ke Ding",
      "photoUrl": "https://lh3.googleusercontent.com/a/default-user=s64",
      "userId": "13611153066314221119"
     },
     "user_tz": -660
    },
    "id": "c2MQnqUW5zTV"
   },
   "outputs": [],
   "source": [
    "# import python packages we just installed\n",
    "# %matplotlib widget\n",
    "import pandas as pd\n",
    "import seaborn as sns\n",
    "import matplotlib.pyplot as plt\n",
    "import numpy as np"
   ]
  },
  {
   "cell_type": "code",
   "execution_count": null,
   "metadata": {
    "executionInfo": {
     "elapsed": 6,
     "status": "ok",
     "timestamp": 1646882231969,
     "user": {
      "displayName": "Ke Ding",
      "photoUrl": "https://lh3.googleusercontent.com/a/default-user=s64",
      "userId": "13611153066314221119"
     },
     "user_tz": -660
    },
    "id": "sTvwrKH136ou"
   },
   "outputs": [],
   "source": [
    "# you might need to specify your own data path\n",
    "path = \"data/\""
   ]
  },
  {
   "cell_type": "markdown",
   "metadata": {
    "id": "Is1N5_tm1bml"
   },
   "source": [
    "# 1. Dataset Overview and basic visualisation"
   ]
  },
  {
   "cell_type": "markdown",
   "metadata": {
    "id": "y7W0LvWD1pfY"
   },
   "source": [
    "Firstly, let's have an overview of the dataset \n",
    "* 1. load data into a pandas DataFrame using pd.read_csv()\n",
    "* 2. randomly sample 5 data points from your DataFrame "
   ]
  },
  {
   "cell_type": "code",
   "execution_count": null,
   "metadata": {
    "colab": {
     "base_uri": "https://localhost:8080/",
     "height": 447
    },
    "executionInfo": {
     "elapsed": 312,
     "status": "ok",
     "timestamp": 1646883611967,
     "user": {
      "displayName": "Ke Ding",
      "photoUrl": "https://lh3.googleusercontent.com/a/default-user=s64",
      "userId": "13611153066314221119"
     },
     "user_tz": -660
    },
    "id": "dP67_kXC5z4N",
    "outputId": "e92f4e70-c8ad-4568-a631-1bd2325abd48"
   },
   "outputs": [],
   "source": [
    "df=pd.read_csv(path + 'country_vaccinations.csv')\n",
    "df.sample(5)    "
   ]
  },
  {
   "cell_type": "markdown",
   "metadata": {
    "id": "uPfcrBvR1gxR"
   },
   "source": [
    "We can find NaN in the data, which means some records are missing.\n",
    "\n",
    "Let first look how many data we have in this dataset by printing the shape of the dataframe"
   ]
  },
  {
   "cell_type": "code",
   "execution_count": null,
   "metadata": {},
   "outputs": [],
   "source": [
    "# show the shape of the dataframe\n",
    "print(f'shape of data is: {df.shape}')"
   ]
  },
  {
   "cell_type": "markdown",
   "metadata": {},
   "source": [
    "Let's use a function called df.info() to have a concise summary of the data."
   ]
  },
  {
   "cell_type": "code",
   "execution_count": null,
   "metadata": {
    "colab": {
     "base_uri": "https://localhost:8080/"
    },
    "executionInfo": {
     "elapsed": 4,
     "status": "ok",
     "timestamp": 1646883613092,
     "user": {
      "displayName": "Ke Ding",
      "photoUrl": "https://lh3.googleusercontent.com/a/default-user=s64",
      "userId": "13611153066314221119"
     },
     "user_tz": -660
    },
    "id": "d9_iffQ96I1K",
    "outputId": "958778b7-258e-4bd4-c318-1a8e96ddb1eb"
   },
   "outputs": [],
   "source": [
    "# print a concise summary of a DataFrame \n",
    "df.info()"
   ]
  },
  {
   "cell_type": "markdown",
   "metadata": {},
   "source": [
    "By combining multiple operation together, we can simplify our code.\n",
    "\n",
    "Let's combine df.isnull() function and df.sum() function to count the total missing records inside the data"
   ]
  },
  {
   "cell_type": "code",
   "execution_count": null,
   "metadata": {},
   "outputs": [],
   "source": [
    "# counting missing values\n",
    "print('\\n Missing Values Summary: \\n')\n",
    "df.isnull().sum()"
   ]
  },
  {
   "cell_type": "code",
   "execution_count": null,
   "metadata": {},
   "outputs": [],
   "source": [
    "# first of all lets check about correlation in our data\n",
    "fig,ax=plt.subplots(figsize=(10,6))\n",
    "sns.heatmap(df.corr(),annot=True,cmap=\"Blues\")\n",
    "plt.title('Correlation Between different Features')"
   ]
  },
  {
   "cell_type": "markdown",
   "metadata": {
    "id": "lLRzS96H7IzZ"
   },
   "source": [
    "we can further plot the data to verify the linear correlation between features"
   ]
  },
  {
   "cell_type": "code",
   "execution_count": null,
   "metadata": {
    "colab": {
     "base_uri": "https://localhost:8080/",
     "height": 914
    },
    "executionInfo": {
     "elapsed": 2173,
     "status": "ok",
     "timestamp": 1646883626312,
     "user": {
      "displayName": "Ke Ding",
      "photoUrl": "https://lh3.googleusercontent.com/a/default-user=s64",
      "userId": "13611153066314221119"
     },
     "user_tz": -660
    },
    "id": "7VoF57Xl76hq",
    "outputId": "865c0d48-d90e-40bb-b13b-68dec56387d9"
   },
   "outputs": [],
   "source": [
    "fig, ax = plt.subplots(2,2,figsize=(20,15))\n",
    "#fig 1\n",
    "sns.scatterplot(x=df['total_vaccinations'], y=df['people_vaccinated'],ax=ax[0][0],color='#39ac73')\n",
    "ax[0,0].set_title('relation Between total_vaccinations and people_vaccinated ')\n",
    "#fig 2\n",
    "sns.scatterplot(x=df['daily_vaccinations_raw'], y=df['daily_vaccinations'], color='#3385ff',ax=ax[0][1])\n",
    "ax[0][1].set_title('relation Between daily_vaccinations_raw and daily_vaccinations ')\n",
    "#fig 3\n",
    "sns.scatterplot(x=df['total_vaccinations_per_hundred'], y=df['people_vaccinated_per_hundred'], color='#ff5c33',ax=ax[1][0])\n",
    "ax[1][0].set_title(' total_vaccinations_per_hundred and people_vaccinated_per_hundred ')\n",
    "#fig 4\n",
    "sns.scatterplot(x=df['daily_vaccinations'],y=df['daily_vaccinations_per_million'], color='#cccc00',ax=ax[1][1])\n",
    "ax[1][1].set_title(' daily_vaccinations and daily_vaccinations_per_million ')\n",
    "plt.show()"
   ]
  },
  {
   "cell_type": "markdown",
   "metadata": {
    "id": "slkIvi1y8em2"
   },
   "source": [
    "Let's do some visualisation \n",
    "\n",
    "List the top 10 countries by the total number of people get vaccinated in descending order"
   ]
  },
  {
   "cell_type": "code",
   "execution_count": null,
   "metadata": {
    "colab": {
     "base_uri": "https://localhost:8080/",
     "height": 549
    },
    "executionInfo": {
     "elapsed": 873,
     "status": "ok",
     "timestamp": 1646884953108,
     "user": {
      "displayName": "Ke Ding",
      "photoUrl": "https://lh3.googleusercontent.com/a/default-user=s64",
      "userId": "13611153066314221119"
     },
     "user_tz": -660
    },
    "id": "52KUgDAcJ-Tp",
    "outputId": "c7e832fd-3f68-42e3-dfb6-78fb13b568f0"
   },
   "outputs": [],
   "source": [
    "sum_df=df.groupby('country').sum().sort_values(by='daily_vaccinations',ascending=False)[:10]\n",
    "fig,ax=plt.subplots(figsize=(15,7))\n",
    "plt.title('Top 10 countries based on the vaccinated population')\n",
    "plt.xticks(rotation=45)\n",
    "sns.barplot(x=sum_df.index,y=sum_df['daily_vaccinations'],palette='summer')"
   ]
  },
  {
   "cell_type": "markdown",
   "metadata": {},
   "source": [
    "<div class=\"alert alert-block alert-warning\">\n",
    "<b>TODO: Show top 10 countries by total number of people vaccinated during February in descending order\n",
    "    \n",
    "* check pd.to_datatime() function\n",
    "* create a date mask to select data between 2022/02/01 and 2022/03/01 and use pandas.DataFrame.loc() to select the data\n",
    "* check pd.groupby() functions: pandas.DataFrame.groupby() and pandas.DataFrame.sort_values()\n",
    "</b>\n",
    "</div>"
   ]
  },
  {
   "cell_type": "code",
   "execution_count": null,
   "metadata": {},
   "outputs": [],
   "source": [
    "### Your solution TODO\n",
    "\n"
   ]
  },
  {
   "cell_type": "markdown",
   "metadata": {
    "id": "MPlwpOVhLbig"
   },
   "source": [
    "# 2. Linear Regression"
   ]
  },
  {
   "cell_type": "code",
   "execution_count": null,
   "metadata": {
    "executionInfo": {
     "elapsed": 4,
     "status": "ok",
     "timestamp": 1646887515685,
     "user": {
      "displayName": "Ke Ding",
      "photoUrl": "https://lh3.googleusercontent.com/a/default-user=s64",
      "userId": "13611153066314221119"
     },
     "user_tz": -660
    },
    "id": "eyOuuAuHOqN1"
   },
   "outputs": [],
   "source": [
    "from sklearn.linear_model import LinearRegression\n",
    "# creating model\n",
    "linear_regression_model=LinearRegression(n_jobs=-1)"
   ]
  },
  {
   "cell_type": "markdown",
   "metadata": {},
   "source": [
    "To build linear regression model using sklearn\n",
    "* you just import the function from sklearn.linear_model\n",
    "* then initialise your linear regression model  \n",
    "\n",
    "by passing different number of 'n_jobs' to our sklearn model, we are basically telling how many cpu cores our model should use. A value of -1 for n_jobs means that all available CPU cores will be used.\n",
    "\n",
    "Overall, this code appears to be preparing the data for linear regression by grouping the vaccination data by date, calculating the total vaccinations for each date, and adding a new column date_diff to store the integer values corresponding to each date. Finally, it fits a linear regression model to the date_diff and total_vaccinations variables to predict the number of vaccinations per day. \n",
    "\n",
    "The %time command is used to measure the execution time of this process. The user and sys times refer to the amount of CPU time used by the code in user and system mode, respectively. The total time is the sum of the user and sys times.\n",
    "The Wall time is the elapsed time between the start and end of the code block. This includes the time taken by the code to execute as well as any time spent waiting for input/output operations or for other processes to complete. \n",
    "Overall, the CPU times and Wall time outputs can be used to measure the performance of your code and identify any bottlenecks that may be slowing down your program. However, it's important to keep in mind that the execution time of your code may vary depending on the hardware you are running it on and other factors such as the size of your dataset or the complexity of your algorithm."
   ]
  },
  {
   "cell_type": "code",
   "execution_count": null,
   "metadata": {},
   "outputs": [],
   "source": [
    "%time\n",
    "# now we have added one more columns that is difference of date\n",
    "# now we will see that how many vaccines are vaccinated each day\n",
    "df['date']=pd.to_datetime(df['date'])\n",
    "dt=df.groupby('date').sum() # the number of row is decided by the number of date in the data\n",
    "dt['date_diff']=np.arange(len(dt['total_vaccinations']))\n",
    "\n",
    "# lets create our x and Y variable\n",
    "x=dt[['date_diff']]\n",
    "y=dt['total_vaccinations']"
   ]
  },
  {
   "cell_type": "code",
   "execution_count": null,
   "metadata": {},
   "outputs": [],
   "source": [
    "from sklearn.model_selection import train_test_split\n",
    "from sklearn.linear_model import LinearRegression\n",
    "from sklearn.metrics import mean_squared_error\n",
    "\n",
    "# Split the data into training and test sets\n",
    "x_train, x_test, y_train, y_test = train_test_split(dt[['date_diff']], dt['total_vaccinations'], test_size=0.2, random_state=42)\n",
    "\n",
    "# Create an instance of the LinearRegression class\n",
    "linear_regression_model = LinearRegression()\n"
   ]
  },
  {
   "cell_type": "markdown",
   "metadata": {},
   "source": [
    "<div class=\"alert alert-block alert-warning\">\n",
    "<b>TODO: Fit the linear regression model on the training data. Make predictions (y_pred) on the test data \n",
    "</b>\n",
    "</div>"
   ]
  },
  {
   "cell_type": "code",
   "execution_count": null,
   "metadata": {},
   "outputs": [],
   "source": [
    "# Your solution: \n",
    "# TODO\n"
   ]
  },
  {
   "cell_type": "code",
   "execution_count": null,
   "metadata": {},
   "outputs": [],
   "source": [
    "# Evaluate the performance of the model using mean squared error metric\n",
    "mse = mean_squared_error(y_test, y_pred)\n",
    "print(\"Mean squared error:\", mse)"
   ]
  },
  {
   "cell_type": "code",
   "execution_count": null,
   "metadata": {},
   "outputs": [],
   "source": [
    "import seaborn as sns\n",
    "import matplotlib.pyplot as plt\n",
    "\n",
    "# Visualize the predictions on the train and test data\n",
    "sns.set_style('darkgrid')\n",
    "plt.figure(figsize=(10, 6))\n",
    "plt.scatter(x_train, y_train, label='train data')\n",
    "plt.scatter(x_test, y_test, label='test data')\n",
    "plt.plot(x_test, y_pred, color='green', label='test predictions')\n",
    "plt.title('Linear Regression Model')\n",
    "plt.xlabel('Date Difference')\n",
    "plt.ylabel('Total Vaccinations')\n",
    "plt.legend()\n",
    "plt.show()\n"
   ]
  },
  {
   "cell_type": "markdown",
   "metadata": {},
   "source": [
    "# 3. K-means\n",
    "\n",
    "an example of using sklearn.cluster.KMeans to do clustering.\n",
    "* try to change the 'n_clusters' with different number, and see how it change the results(i.e. n_clusters=20)\n",
    "\n",
    "the KMeans class is instantiated with n_clusters=2, indicating that the algorithm should group the data into two clusters. The fit() method of the KMeans object is then called, passing in a subset of the data frame containing the columns to be used in the clustering analysis: total_vaccinations_per_hundred, people_vaccinated_per_hundred, and daily_vaccinations.\n",
    "\n"
   ]
  },
  {
   "cell_type": "code",
   "execution_count": null,
   "metadata": {},
   "outputs": [],
   "source": [
    "from sklearn.cluster import KMeans\n",
    "\n",
    "dt=df.groupby('country', as_index=False).sum().sort_values(by=['total_vaccinations'], ascending=False)[10:30]\n",
    "dt=dt[['country','total_vaccinations', 'total_vaccinations_per_hundred', 'people_vaccinated_per_hundred', 'daily_vaccinations']]\n"
   ]
  },
  {
   "cell_type": "markdown",
   "metadata": {},
   "source": [
    "<div class=\"alert alert-block alert-warning\">\n",
    "<b>TODO: Fit KMeans with features 'total_vaccinations_per_hundred', 'people_vaccinated_per_hundred', 'daily_vaccinations' for 2 clusters\n",
    "</b>\n",
    "</div>"
   ]
  },
  {
   "cell_type": "code",
   "execution_count": null,
   "metadata": {},
   "outputs": [],
   "source": [
    "# TODO Your Solution"
   ]
  },
  {
   "cell_type": "code",
   "execution_count": null,
   "metadata": {},
   "outputs": [],
   "source": [
    "centroids = kmeans.cluster_centers_\n",
    "print(centroids)"
   ]
  },
  {
   "cell_type": "markdown",
   "metadata": {},
   "source": [
    "Now we visualise our clusterings. The hue parameter is set to kmeans.labels_.astype(float), which assigns a unique color to each cluster based on the cluster assignments generated by the KMeans algorithm in the previous code block. The size parameter is set to \"total_vaccinations\", which sets the size of each point based on the total number of vaccinations for that country."
   ]
  },
  {
   "cell_type": "code",
   "execution_count": null,
   "metadata": {},
   "outputs": [],
   "source": [
    "sns.relplot(x=dt['total_vaccinations_per_hundred'], y=dt['daily_vaccinations'], hue=kmeans.labels_.astype(float), size=\"total_vaccinations\",\n",
    "            sizes=(40, 400), alpha=.5, palette=\"muted\", legend=False,\n",
    "            height=6, data=dt)\n",
    "sns.scatterplot(x=centroids[:, 0], y=centroids[:, 2], color='#ff5c33', s=50)\n",
    "for i in range(len(dt)):\n",
    "    country = dt.iloc[i].country\n",
    "    plt.text(dt.total_vaccinations_per_hundred[dt.country==country],dt.daily_vaccinations[dt.country==country],country)\n"
   ]
  },
  {
   "cell_type": "code",
   "execution_count": null,
   "metadata": {},
   "outputs": [],
   "source": []
  }
 ],
 "metadata": {
  "colab": {
   "authorship_tag": "ABX9TyMtnfk4P44LChlIpzs/jPio",
   "mount_file_id": "1mNz47Lwil_poFSVFTqc9EWGz0Yj5z6Jf",
   "name": "COVID-19-Vaccination-Progress-LinearRegression.ipynb",
   "provenance": [],
   "toc_visible": true
  },
  "interpreter": {
   "hash": "083af65edfaa1d9f5b8e7e358b223dc7f40658c41c23df9fb81f92546144f4ee"
  },
  "kernelspec": {
   "display_name": "Python 3 (ipykernel)",
   "language": "python",
   "name": "python3"
  },
  "language_info": {
   "codemirror_mode": {
    "name": "ipython",
    "version": 3
   },
   "file_extension": ".py",
   "mimetype": "text/x-python",
   "name": "python",
   "nbconvert_exporter": "python",
   "pygments_lexer": "ipython3",
   "version": "3.10.9"
  }
 },
 "nbformat": 4,
 "nbformat_minor": 4
}
